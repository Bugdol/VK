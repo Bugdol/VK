{
 "cells": [
  {
   "cell_type": "code",
   "execution_count": 3,
   "metadata": {},
   "outputs": [],
   "source": [
    "import json\n",
    "from html import unescape\n",
    "import pandas as pd"
   ]
  },
  {
   "cell_type": "code",
   "execution_count": 4,
   "metadata": {},
   "outputs": [],
   "source": [
    "data = []\n",
    "with open('ranking_train.jsonl', 'r') as f:\n",
    "    for line in f:\n",
    "        json_data = json.loads(line.strip())\n",
    "        post_text = unescape(json_data['text'])\n",
    "        post_text = post_text.replace('\\'', '').replace('\\n', '').replace('\\t', '')\n",
    "        comments = json_data['comments']\n",
    "        for comment in comments:\n",
    "            comment_text = unescape(comment['text'])\n",
    "            comment_text = comment_text.replace('\\'', '').replace('\\n', '').replace('\\t', '')\n",
    "            score = comment.get('score')\n",
    "            data.append({'post_text': post_text, 'comment': comment_text, 'score': score})\n",
    "\n",
    "df_train = pd.DataFrame(data)"
   ]
  },
  {
   "cell_type": "code",
   "execution_count": 20,
   "metadata": {},
   "outputs": [],
   "source": [
    "data = []\n",
    "with open('ranking_test.jsonl', 'r') as f:\n",
    "    for line in f:\n",
    "        json_data = json.loads(line.strip())\n",
    "        post_text = unescape(json_data['text'])\n",
    "        post_text = post_text.replace('\\'', '').replace('\\n', '').replace('\\t', '')\n",
    "        comments = json_data['comments']\n",
    "        for comment in comments:\n",
    "            comment_text = unescape(comment['text'])\n",
    "            comment_text = comment_text.replace('\\'', '').replace('\\n', '').replace('\\t', '')\n",
    "            score = comment.get('score')\n",
    "            data.append({'post_text': post_text, 'comment': comment_text, 'score': score})\n",
    "\n",
    "df_test = pd.DataFrame(data)"
   ]
  },
  {
   "cell_type": "code",
   "execution_count": 10,
   "metadata": {},
   "outputs": [
    {
     "data": {
      "text/plain": [
       "0    Going back to school is not identical with giv...\n",
       "1    There will invariably be those who dont see th...\n",
       "2    For me school is a way to be connected to what...\n",
       "3    I guess it really depends on how hungry you ar...\n",
       "4    I know pollground decided to go back to school...\n",
       "Name: comment, dtype: object"
      ]
     },
     "execution_count": 10,
     "metadata": {},
     "output_type": "execute_result"
    }
   ],
   "source": [
    "df_train['comment'][0:5]"
   ]
  },
  {
   "cell_type": "code",
   "execution_count": 22,
   "metadata": {},
   "outputs": [
    {
     "data": {
      "text/plain": [
       "'How many summer Y Combinator fundees decided not to continue with their startup and go back to school? and what were the reasons?'"
      ]
     },
     "execution_count": 22,
     "metadata": {},
     "output_type": "execute_result"
    }
   ],
   "source": [
    "df_train['post_text'][0]"
   ]
  },
  {
   "cell_type": "code",
   "execution_count": 11,
   "metadata": {},
   "outputs": [
    {
     "data": {
      "text/plain": [
       "'Going back to school is not identical with giving up. Some founders go back to school and keep working on the startup while there.  However, those do so much worse than the people who work on the startup full-time that going back to school seems, in practice, not too far removed from a death sentence for a startup.Off the top of my head, Id guess weve had about 8 startups where the founders went back to school.  It doesnt only happen with summer batches.  Founders from winter batches do it too.Usually the reason is that the startup isnt doing very well. However, that judgement depends a lot on how determined the founders are.  One reason we now shy away from funding people still in school is that they often unconsciously want the startup to fail, because the idea of dropping out frightens them.A lot of startups look bad after 3 months.  Someone whos out of school and has to make it work or get a job in a cubicle will say \"dont worry, well figure out how to make it successful.\"'"
      ]
     },
     "execution_count": 11,
     "metadata": {},
     "output_type": "execute_result"
    }
   ],
   "source": [
    "df_train['comment'][0]"
   ]
  },
  {
   "cell_type": "code",
   "execution_count": 12,
   "metadata": {},
   "outputs": [
    {
     "data": {
      "text/plain": [
       "'There will invariably be those who dont see the success they set out for, and they fall back to their original path. Thats why a founders commitment is so critical. When your one plan is to become a startup founder, regardless of school or any other factors, you will do your damndest to make something of value and succeed. Its part _doing_ it better than the next guy and _wanting_ it more than the next guy.'"
      ]
     },
     "execution_count": 12,
     "metadata": {},
     "output_type": "execute_result"
    }
   ],
   "source": [
    "df_train['comment'][1]"
   ]
  },
  {
   "cell_type": "code",
   "execution_count": 13,
   "metadata": {},
   "outputs": [
    {
     "data": {
      "text/plain": [
       "'For me school is a way to be connected to what is going on in the \"real world\". I entered school thinking it is EITHER school or entrepreneurship. But in last year my views have changed. I really think there is a middle path where you do JUST enough to stay in school all the while trying out new ventures. (May be the Steve Jobs route?)School is an awesome platform to launch your site off and get quick feedback - ESPECIALLY if your venture fits in with the social networking ecosystem.'"
      ]
     },
     "execution_count": 13,
     "metadata": {},
     "output_type": "execute_result"
    }
   ],
   "source": [
    "df_train['comment'][2]"
   ]
  },
  {
   "cell_type": "code",
   "execution_count": 19,
   "metadata": {},
   "outputs": [
    {
     "data": {
      "text/plain": [
       "10    I really hate it when people falsely claim tha...\n",
       "11    I love Costco.  For me, the best quote of the ...\n",
       "12    \"But Mr. Sinegal warned that if Costco increas...\n",
       "13    While Costco does treat its employees a little...\n",
       "14    Id like to know more about their \"dont adverti...\n",
       "Name: comment, dtype: object"
      ]
     },
     "execution_count": 19,
     "metadata": {},
     "output_type": "execute_result"
    }
   ],
   "source": [
    "df_train['comment'][10:15]"
   ]
  },
  {
   "cell_type": "code",
   "execution_count": 21,
   "metadata": {},
   "outputs": [
    {
     "data": {
      "text/html": [
       "<div>\n",
       "<style scoped>\n",
       "    .dataframe tbody tr th:only-of-type {\n",
       "        vertical-align: middle;\n",
       "    }\n",
       "\n",
       "    .dataframe tbody tr th {\n",
       "        vertical-align: top;\n",
       "    }\n",
       "\n",
       "    .dataframe thead th {\n",
       "        text-align: right;\n",
       "    }\n",
       "</style>\n",
       "<table border=\"1\" class=\"dataframe\">\n",
       "  <thead>\n",
       "    <tr style=\"text-align: right;\">\n",
       "      <th></th>\n",
       "      <th>post_text</th>\n",
       "      <th>comment</th>\n",
       "      <th>score</th>\n",
       "    </tr>\n",
       "  </thead>\n",
       "  <tbody>\n",
       "    <tr>\n",
       "      <th>0</th>\n",
       "      <td>iOS 8.0.1 released, broken on iPhone 6 models,...</td>\n",
       "      <td>Im still waiting for them to stabilize wifi on...</td>\n",
       "      <td>None</td>\n",
       "    </tr>\n",
       "    <tr>\n",
       "      <th>1</th>\n",
       "      <td>iOS 8.0.1 released, broken on iPhone 6 models,...</td>\n",
       "      <td>For those who upgraded, no need to do a restor...</td>\n",
       "      <td>None</td>\n",
       "    </tr>\n",
       "    <tr>\n",
       "      <th>2</th>\n",
       "      <td>iOS 8.0.1 released, broken on iPhone 6 models,...</td>\n",
       "      <td>Upgraded shortly after it was released and suf...</td>\n",
       "      <td>None</td>\n",
       "    </tr>\n",
       "    <tr>\n",
       "      <th>3</th>\n",
       "      <td>iOS 8.0.1 released, broken on iPhone 6 models,...</td>\n",
       "      <td>I think they were under a lot of pressure on t...</td>\n",
       "      <td>None</td>\n",
       "    </tr>\n",
       "    <tr>\n",
       "      <th>4</th>\n",
       "      <td>iOS 8.0.1 released, broken on iPhone 6 models,...</td>\n",
       "      <td>Fix for those who already updated:  http://www...</td>\n",
       "      <td>None</td>\n",
       "    </tr>\n",
       "    <tr>\n",
       "      <th>...</th>\n",
       "      <td>...</td>\n",
       "      <td>...</td>\n",
       "      <td>...</td>\n",
       "    </tr>\n",
       "    <tr>\n",
       "      <th>70015</th>\n",
       "      <td>Why does Gmail hate my domain?</td>\n",
       "      <td>I send a LOT of emails each month (email newsl...</td>\n",
       "      <td>None</td>\n",
       "    </tr>\n",
       "    <tr>\n",
       "      <th>70016</th>\n",
       "      <td>Why does Gmail hate my domain?</td>\n",
       "      <td>I hit a similar problems when sending automate...</td>\n",
       "      <td>None</td>\n",
       "    </tr>\n",
       "    <tr>\n",
       "      <th>70017</th>\n",
       "      <td>Why does Gmail hate my domain?</td>\n",
       "      <td>Thats all a bit presumptive and inflammatory f...</td>\n",
       "      <td>None</td>\n",
       "    </tr>\n",
       "    <tr>\n",
       "      <th>70018</th>\n",
       "      <td>Why does Gmail hate my domain?</td>\n",
       "      <td>If the domain is bitbin.de and the mail server...</td>\n",
       "      <td>None</td>\n",
       "    </tr>\n",
       "    <tr>\n",
       "      <th>70019</th>\n",
       "      <td>Why does Gmail hate my domain?</td>\n",
       "      <td>Im very curious about that as well as I am thi...</td>\n",
       "      <td>None</td>\n",
       "    </tr>\n",
       "  </tbody>\n",
       "</table>\n",
       "<p>70020 rows × 3 columns</p>\n",
       "</div>"
      ],
      "text/plain": [
       "                                               post_text  \\\n",
       "0      iOS 8.0.1 released, broken on iPhone 6 models,...   \n",
       "1      iOS 8.0.1 released, broken on iPhone 6 models,...   \n",
       "2      iOS 8.0.1 released, broken on iPhone 6 models,...   \n",
       "3      iOS 8.0.1 released, broken on iPhone 6 models,...   \n",
       "4      iOS 8.0.1 released, broken on iPhone 6 models,...   \n",
       "...                                                  ...   \n",
       "70015                     Why does Gmail hate my domain?   \n",
       "70016                     Why does Gmail hate my domain?   \n",
       "70017                     Why does Gmail hate my domain?   \n",
       "70018                     Why does Gmail hate my domain?   \n",
       "70019                     Why does Gmail hate my domain?   \n",
       "\n",
       "                                                 comment score  \n",
       "0      Im still waiting for them to stabilize wifi on...  None  \n",
       "1      For those who upgraded, no need to do a restor...  None  \n",
       "2      Upgraded shortly after it was released and suf...  None  \n",
       "3      I think they were under a lot of pressure on t...  None  \n",
       "4      Fix for those who already updated:  http://www...  None  \n",
       "...                                                  ...   ...  \n",
       "70015  I send a LOT of emails each month (email newsl...  None  \n",
       "70016  I hit a similar problems when sending automate...  None  \n",
       "70017  Thats all a bit presumptive and inflammatory f...  None  \n",
       "70018  If the domain is bitbin.de and the mail server...  None  \n",
       "70019  Im very curious about that as well as I am thi...  None  \n",
       "\n",
       "[70020 rows x 3 columns]"
      ]
     },
     "execution_count": 21,
     "metadata": {},
     "output_type": "execute_result"
    }
   ],
   "source": [
    "df_test"
   ]
  },
  {
   "cell_type": "code",
   "execution_count": 28,
   "metadata": {},
   "outputs": [],
   "source": [
    "from nltk.tokenize import word_tokenize\n",
    "from nltk.corpus import stopwords\n",
    "from nltk.stem import WordNetLemmatizer"
   ]
  },
  {
   "cell_type": "code",
   "execution_count": 25,
   "metadata": {},
   "outputs": [],
   "source": [
    "lemmatizer = WordNetLemmatizer()"
   ]
  },
  {
   "cell_type": "code",
   "execution_count": 31,
   "metadata": {},
   "outputs": [],
   "source": [
    "tokens = word_tokenize(df_train['comment'][0])\n",
    "\n",
    "lemm_comm = [lemmatizer.lemmatize(word) for word in tokens]"
   ]
  },
  {
   "cell_type": "code",
   "execution_count": 32,
   "metadata": {
    "scrolled": true
   },
   "outputs": [
    {
     "name": "stdout",
     "output_type": "stream",
     "text": [
      "['Going', 'back', 'to', 'school', 'is', 'not', 'identical', 'with', 'giving', 'up', '.', 'Some', 'founder', 'go', 'back', 'to', 'school', 'and', 'keep', 'working', 'on', 'the', 'startup', 'while', 'there', '.', 'However', ',', 'those', 'do', 'so', 'much', 'worse', 'than', 'the', 'people', 'who', 'work', 'on', 'the', 'startup', 'full-time', 'that', 'going', 'back', 'to', 'school', 'seems', ',', 'in', 'practice', ',', 'not', 'too', 'far', 'removed', 'from', 'a', 'death', 'sentence', 'for', 'a', 'startup.Off', 'the', 'top', 'of', 'my', 'head', ',', 'Id', 'guess', 'weve', 'had', 'about', '8', 'startup', 'where', 'the', 'founder', 'went', 'back', 'to', 'school', '.', 'It', 'doesnt', 'only', 'happen', 'with', 'summer', 'batch', '.', 'Founders', 'from', 'winter', 'batch', 'do', 'it', 'too.Usually', 'the', 'reason', 'is', 'that', 'the', 'startup', 'isnt', 'doing', 'very', 'well', '.', 'However', ',', 'that', 'judgement', 'depends', 'a', 'lot', 'on', 'how', 'determined', 'the', 'founder', 'are', '.', 'One', 'reason', 'we', 'now', 'shy', 'away', 'from', 'funding', 'people', 'still', 'in', 'school', 'is', 'that', 'they', 'often', 'unconsciously', 'want', 'the', 'startup', 'to', 'fail', ',', 'because', 'the', 'idea', 'of', 'dropping', 'out', 'frightens', 'them.A', 'lot', 'of', 'startup', 'look', 'bad', 'after', '3', 'month', '.', 'Someone', 'who', 'out', 'of', 'school', 'and', 'ha', 'to', 'make', 'it', 'work', 'or', 'get', 'a', 'job', 'in', 'a', 'cubicle', 'will', 'say', '``', 'dont', 'worry', ',', 'well', 'figure', 'out', 'how', 'to', 'make', 'it', 'successful', '.', \"''\"]\n"
     ]
    }
   ],
   "source": [
    "print(lemm_comm)"
   ]
  },
  {
   "cell_type": "markdown",
   "metadata": {},
   "source": [
    "# Bag of Words (BOW)"
   ]
  },
  {
   "cell_type": "markdown",
   "metadata": {},
   "source": [
    "## Одиночные слова"
   ]
  },
  {
   "cell_type": "code",
   "execution_count": 11,
   "metadata": {},
   "outputs": [
    {
     "name": "stdout",
     "output_type": "stream",
     "text": [
      "   good  job  miss\n",
      "0     1    1     1\n",
      "1     1    0     0\n"
     ]
    }
   ],
   "source": [
    "import pandas as pd\n",
    "from sklearn.feature_extraction.text import CountVectorizer, TfidfVectorizer\n",
    " \n",
    "sentence_1=\"This is a good job.I will not miss it for anything\"\n",
    "sentence_2=\"This is not good at all\"\n",
    " \n",
    " \n",
    " \n",
    "CountVec = CountVectorizer(ngram_range=(1,1), # to use bigrams ngram_range=(2,2)\n",
    "                           stop_words='english' \n",
    "                          #stop_words=None # чтобы увидеть результат без фильтрации стоп-слов\n",
    "                          )\n",
    "#transform\n",
    "Count_data = CountVec.fit_transform([sentence_1,sentence_2])\n",
    " \n",
    "#create dataframe\n",
    "cv_dataframe=pd.DataFrame(Count_data.toarray(),columns=CountVec.get_feature_names())\n",
    "print(cv_dataframe)"
   ]
  },
  {
   "cell_type": "code",
   "execution_count": 12,
   "metadata": {},
   "outputs": [
    {
     "name": "stdout",
     "output_type": "stream",
     "text": [
      "   24  _doing_  _wanting_  advice  away  awesome  bad  batches  believe  \\\n",
      "0   0        0          0       0     1        0    1        2        0   \n",
      "1   0        1          1       0     0        0    0        0        0   \n",
      "2   0        0          0       0     0        1    0        0        0   \n",
      "3   1        0          0       1     0        0    0        0        1   \n",
      "4   0        0          0       0     0        0    0        0        0   \n",
      "\n",
      "   better  ...  whos  willing  winter  work  working  world  worry  worse  yc  \\\n",
      "0       0  ...     1        0       1     2        1      0      1      1   0   \n",
      "1       1  ...     0        0       0     0        0      0      0      0   0   \n",
      "2       0  ...     0        0       0     0        0      1      0      0   0   \n",
      "3       0  ...     0        2       0     0        0      1      0      0   1   \n",
      "4       0  ...     0        0       0     0        0      0      0      0   0   \n",
      "\n",
      "   year  \n",
      "0     0  \n",
      "1     0  \n",
      "2     1  \n",
      "3     0  \n",
      "4     0  \n",
      "\n",
      "[5 rows x 131 columns]\n"
     ]
    }
   ],
   "source": [
    "#transform\n",
    "Count_data = CountVec.fit_transform(df_train['comment'][0:5])\n",
    " \n",
    "#create dataframe\n",
    "cv_dataframe=pd.DataFrame(Count_data.toarray(),columns=CountVec.get_feature_names())\n",
    "print(cv_dataframe)"
   ]
  },
  {
   "cell_type": "markdown",
   "metadata": {},
   "source": [
    "# TF-IDF"
   ]
  },
  {
   "cell_type": "code",
   "execution_count": 14,
   "metadata": {},
   "outputs": [
    {
     "name": "stdout",
     "output_type": "stream",
     "text": [
      "Without Smoothing:\n",
      "       good       job      miss\n",
      "0  0.385372  0.652491  0.652491\n",
      "1  1.000000  0.000000  0.000000\n",
      "\n",
      "\n",
      "With Smoothing:\n",
      "       good       job      miss\n",
      "0  0.449436  0.631667  0.631667\n",
      "1  1.000000  0.000000  0.000000\n"
     ]
    }
   ],
   "source": [
    "import pandas as pd\n",
    "from sklearn.feature_extraction.text import CountVectorizer, TfidfVectorizer\n",
    " \n",
    "sentence_1=\"This is a good job.I will not miss it for anything\"\n",
    "sentence_2=\"This is not good at all\"\n",
    " \n",
    " \n",
    " \n",
    "#without smooth IDF\n",
    "print(\"Without Smoothing:\")\n",
    "#define tf-idf\n",
    "tf_idf_vec = TfidfVectorizer(use_idf=True, \n",
    "                        smooth_idf=False,  \n",
    "                        ngram_range=(1,1),stop_words='english') # to use only  bigrams ngram_range=(2,2)\n",
    "#transform\n",
    "tf_idf_data = tf_idf_vec.fit_transform([sentence_1,sentence_2])\n",
    " \n",
    "#create dataframe\n",
    "tf_idf_dataframe=pd.DataFrame(tf_idf_data.toarray(),columns=tf_idf_vec.get_feature_names())\n",
    "print(tf_idf_dataframe)\n",
    "print(\"\\n\")\n",
    " \n",
    "#with smooth\n",
    "tf_idf_vec_smooth = TfidfVectorizer(use_idf=True,  \n",
    "                        smooth_idf=True,  \n",
    "                        ngram_range=(1,1),stop_words='english')\n",
    " \n",
    " \n",
    "tf_idf_data_smooth = tf_idf_vec_smooth.fit_transform([sentence_1,sentence_2])\n",
    " \n",
    "print(\"With Smoothing:\")\n",
    "tf_idf_dataframe_smooth=pd.DataFrame(tf_idf_data_smooth.toarray(),columns=tf_idf_vec_smooth.get_feature_names())\n",
    "print(tf_idf_dataframe_smooth)"
   ]
  },
  {
   "cell_type": "code",
   "execution_count": 17,
   "metadata": {},
   "outputs": [
    {
     "name": "stdout",
     "output_type": "stream",
     "text": [
      "Without Smoothing:\n",
      "         24  _doing_  _wanting_    advice     away   awesome      bad  \\\n",
      "0  0.000000  0.00000    0.00000  0.000000  0.10057  0.000000  0.10057   \n",
      "1  0.000000  0.20063    0.20063  0.000000  0.00000  0.000000  0.00000   \n",
      "2  0.000000  0.00000    0.00000  0.000000  0.00000  0.166882  0.00000   \n",
      "3  0.177267  0.00000    0.00000  0.177267  0.00000  0.000000  0.00000   \n",
      "4  0.000000  0.00000    0.00000  0.000000  0.00000  0.000000  0.00000   \n",
      "\n",
      "   batches   believe   better  ...     whos   willing   winter     work  \\\n",
      "0  0.20114  0.000000  0.00000  ...  0.10057  0.000000  0.10057  0.20114   \n",
      "1  0.00000  0.000000  0.20063  ...  0.00000  0.000000  0.00000  0.00000   \n",
      "2  0.00000  0.000000  0.00000  ...  0.00000  0.000000  0.00000  0.00000   \n",
      "3  0.00000  0.177267  0.00000  ...  0.00000  0.354534  0.00000  0.00000   \n",
      "4  0.00000  0.000000  0.00000  ...  0.00000  0.000000  0.00000  0.00000   \n",
      "\n",
      "   working     world    worry    worse        yc      year  \n",
      "0  0.10057  0.000000  0.10057  0.10057  0.000000  0.000000  \n",
      "1  0.00000  0.000000  0.00000  0.00000  0.000000  0.000000  \n",
      "2  0.00000  0.122553  0.00000  0.00000  0.000000  0.166882  \n",
      "3  0.00000  0.130179  0.00000  0.00000  0.177267  0.000000  \n",
      "4  0.00000  0.000000  0.00000  0.00000  0.000000  0.000000  \n",
      "\n",
      "[5 rows x 131 columns]\n",
      "\n",
      "\n"
     ]
    }
   ],
   "source": [
    "#without smooth IDF\n",
    "print(\"Without Smoothing:\")\n",
    "#define tf-idf\n",
    "tf_idf_vec = TfidfVectorizer(use_idf=True, \n",
    "                        smooth_idf=False,  \n",
    "                        ngram_range=(1,1),stop_words='english') # to use only  bigrams ngram_range=(2,2)\n",
    "#transform\n",
    "tf_idf_data = tf_idf_vec.fit_transform(df_train['comment'][0:5])\n",
    " \n",
    "#create dataframe\n",
    "tf_idf_dataframe=pd.DataFrame(tf_idf_data.toarray(),columns=tf_idf_vec.get_feature_names())\n",
    "print(tf_idf_dataframe)\n",
    "print(\"\\n\")"
   ]
  },
  {
   "cell_type": "code",
   "execution_count": null,
   "metadata": {},
   "outputs": [],
   "source": []
  },
  {
   "cell_type": "code",
   "execution_count": null,
   "metadata": {},
   "outputs": [],
   "source": []
  },
  {
   "cell_type": "code",
   "execution_count": 1,
   "metadata": {},
   "outputs": [
    {
     "ename": "ModuleNotFoundError",
     "evalue": "No module named 'transformers'",
     "output_type": "error",
     "traceback": [
      "\u001b[1;31m---------------------------------------------------------------------------\u001b[0m",
      "\u001b[1;31mModuleNotFoundError\u001b[0m                       Traceback (most recent call last)",
      "\u001b[1;32m<ipython-input-1-47be26b32df4>\u001b[0m in \u001b[0;36m<module>\u001b[1;34m\u001b[0m\n\u001b[1;32m----> 1\u001b[1;33m \u001b[1;32mfrom\u001b[0m \u001b[0mtransformers\u001b[0m \u001b[1;32mimport\u001b[0m \u001b[0mAutoTokenizer\u001b[0m\u001b[1;33m,\u001b[0m \u001b[0mAutoModelForSequenceClassification\u001b[0m\u001b[1;33m\u001b[0m\u001b[1;33m\u001b[0m\u001b[0m\n\u001b[0m\u001b[0;32m      2\u001b[0m \u001b[1;33m\u001b[0m\u001b[0m\n\u001b[0;32m      3\u001b[0m \u001b[0mtokenizer\u001b[0m \u001b[1;33m=\u001b[0m \u001b[0mAutoTokenizer\u001b[0m\u001b[1;33m.\u001b[0m\u001b[0mfrom_pretrained\u001b[0m\u001b[1;33m(\u001b[0m\u001b[1;34m\"RahulRST/emoTer_ver5\"\u001b[0m\u001b[1;33m)\u001b[0m\u001b[1;33m\u001b[0m\u001b[1;33m\u001b[0m\u001b[0m\n\u001b[0;32m      4\u001b[0m \u001b[1;33m\u001b[0m\u001b[0m\n\u001b[0;32m      5\u001b[0m \u001b[0mmodel\u001b[0m \u001b[1;33m=\u001b[0m \u001b[0mAutoModelForSequenceClassification\u001b[0m\u001b[1;33m.\u001b[0m\u001b[0mfrom_pretrained\u001b[0m\u001b[1;33m(\u001b[0m\u001b[1;34m\"RahulRST/emoTer_ver5\"\u001b[0m\u001b[1;33m)\u001b[0m\u001b[1;33m\u001b[0m\u001b[1;33m\u001b[0m\u001b[0m\n",
      "\u001b[1;31mModuleNotFoundError\u001b[0m: No module named 'transformers'"
     ]
    }
   ],
   "source": [
    "from transformers import AutoTokenizer, AutoModelForSequenceClassification\n",
    "\n",
    "tokenizer = AutoTokenizer.from_pretrained(\"RahulRST/emoTer_ver5\")\n",
    "\n",
    "model = AutoModelForSequenceClassification.from_pretrained(\"RahulRST/emoTer_ver5\")"
   ]
  }
 ],
 "metadata": {
  "kernelspec": {
   "display_name": "Python 3",
   "language": "python",
   "name": "python3"
  },
  "language_info": {
   "codemirror_mode": {
    "name": "ipython",
    "version": 3
   },
   "file_extension": ".py",
   "mimetype": "text/x-python",
   "name": "python",
   "nbconvert_exporter": "python",
   "pygments_lexer": "ipython3",
   "version": "3.8.5"
  },
  "varInspector": {
   "cols": {
    "lenName": 16,
    "lenType": 16,
    "lenVar": 40
   },
   "kernels_config": {
    "python": {
     "delete_cmd_postfix": "",
     "delete_cmd_prefix": "del ",
     "library": "var_list.py",
     "varRefreshCmd": "print(var_dic_list())"
    },
    "r": {
     "delete_cmd_postfix": ") ",
     "delete_cmd_prefix": "rm(",
     "library": "var_list.r",
     "varRefreshCmd": "cat(var_dic_list()) "
    }
   },
   "types_to_exclude": [
    "module",
    "function",
    "builtin_function_or_method",
    "instance",
    "_Feature"
   ],
   "window_display": false
  }
 },
 "nbformat": 4,
 "nbformat_minor": 4
}
